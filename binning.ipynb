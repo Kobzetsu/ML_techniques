{
 "cells": [
  {
   "cell_type": "markdown",
   "id": "8f15be7f",
   "metadata": {},
   "source": [
    "<h1 style='text-align: center'>\n",
    "    <span style='color: red; font-weight: 700'>Advanced Binning features for selection</span> </h1>\n",
    "\n",
    "<p  style='text-align: center'>\n",
    "    \n",
    "In this notebook I prepare advanced function called \"binning\" for features selection based on Information Value.\n",
    "I haven been talking in my <a href='https://www.kaggle.com/code/kobzetsu/top-25-most-important-features-using-gini-iv-woe'> notebook </a> about features selection using Gini, IV, WOE. In my privous notebook I use \"qcut\" for bin continous feature into some parts, but this is an easy way. For selection features with high IV it is correct to use the algorithm based on Decision Tree described in this notebook."
   ]
  },
  {
   "cell_type": "code",
   "execution_count": 67,
   "id": "047d4537",
   "metadata": {},
   "outputs": [],
   "source": [
    "from sklearn.datasets import load_breast_cancer\n",
    "import warnings\n",
    "warnings.filterwarnings(\"ignore\")\n",
    "import pandas as pd\n",
    "import numpy as np\n",
    "\n",
    "import torch\n",
    "import torch.nn as nn\n",
    "import torch.nn.functional as F\n",
    "from sklearn.utils import shuffle\n",
    "from torch.autograd import Variable\n",
    "\n",
    "from sklearn.metrics import roc_auc_score\n",
    "import itertools\n",
    "\n",
    "from sklearn import tree\n",
    "import math\n",
    "\n",
    "import seaborn as sns\n",
    "import matplotlib.pyplot as plt\n",
    "plt.style.use('ggplot')\n",
    "plt.rc(\"font\", size=14)"
   ]
  },
  {
   "cell_type": "code",
   "execution_count": 68,
   "id": "ba58c9d8",
   "metadata": {},
   "outputs": [],
   "source": [
    "data = pd.read_csv('train.csv').fillna(0)"
   ]
  },
  {
   "cell_type": "code",
   "execution_count": 69,
   "id": "2c1658b8",
   "metadata": {},
   "outputs": [],
   "source": [
    "variables = [col for col in data if col not in ['failure', 'id'] and data[col].dtypes != 'O']"
   ]
  },
  {
   "cell_type": "code",
   "execution_count": 70,
   "id": "2185ea76",
   "metadata": {},
   "outputs": [],
   "source": [
    "def iv_for_var(data):\n",
    "    \n",
    "    data['share'] = data['all_cnt'] / data['all_cnt'].sum()\n",
    "    data['distribution_of_good'] = data['target_cnt'] / data['target_cnt'].sum()\n",
    "    data['distribution_of_bad'] = (data['all_cnt'] - data['target_cnt']) / (data['all_cnt'].sum() - data['target_cnt'].sum())\n",
    "    data['woe'] = np.log(data['distribution_of_good'] / data['distribution_of_bad'])\n",
    "\n",
    "    data['iv'] = data['woe'] * (data['distribution_of_good'] - data['distribution_of_bad'])\n",
    "    \n",
    "    return data['iv'].sum()\n",
    "\n",
    "def WOE(gap_bads, bads, gap_goods, goods):\n",
    "    bads_share = (len(gap_bads) + 0.5) / (len(bads) + 0.5) * 1.0\n",
    "    goods_share = (len(gap_goods) + 0.5) / (len(goods) + 0.5) * 1.0\n",
    "    val = (goods_share / bads_share)\n",
    "    return math.log(val), goods_share, bads_share"
   ]
  },
  {
   "cell_type": "code",
   "execution_count": 71,
   "id": "98d1e582",
   "metadata": {},
   "outputs": [],
   "source": [
    "def binning(x, y, power_depth=20, leaf=2000):\n",
    "    \n",
    "    best_iv = 0\n",
    "      \n",
    "    alldf = pd.concat([x, y], axis=1)\n",
    "    \n",
    "    data_goods = alldf[y == 1]\n",
    "    data_bads = alldf[y == 0]\n",
    "    \n",
    "    for depth in range(1, power_depth + 1):\n",
    "    \n",
    "        dt = tree.DecisionTreeClassifier(criterion=\"entropy\",\n",
    "                                 splitter=\"best\" ,max_depth=depth,\n",
    "                                 min_samples_leaf=leaf)\n",
    "\n",
    "        dt.fit(x[:, None], y)\n",
    "        \n",
    "        limit = 10000000\n",
    "        #  threshold values at nodes without double and leaf value -2 \n",
    "        threshold = list(np.unique([x for x in dt.tree_.threshold if x != -2]))\n",
    "\n",
    "        # Adding an upper and lower limit\n",
    "        threshold.append(limit)\n",
    "        threshold.append(limit * -1)\n",
    "        # sort \n",
    "        threshold.sort()\n",
    "        # prepare gaps with limits\n",
    "        gaps = []\n",
    "        for i in range(len(threshold) - 1):\n",
    "            gaps.append([threshold[i], threshold[i + 1]])\n",
    "            \n",
    "        # calculate WOE for gaps\n",
    "        woe = 0\n",
    "        gaps_shares = []\n",
    "        gaps_woe = []\n",
    "        \n",
    "        data_good = alldf[alldf['y'] == 1]\n",
    "        data_bad = alldf[alldf['y'] == 0]\n",
    "\n",
    "        # for each gap\n",
    "        for gap in gaps:\n",
    "            # upper and lower limit \n",
    "            limlow = gap[0]\n",
    "            limhigh = gap[1]\n",
    "            # наблюдения в сегменте\n",
    "            gap_data = alldf[(alldf['x'] >= limlow) & (alldf['x'] <= limhigh)]\n",
    "            # Goods\n",
    "            gap_goods = gap_data[gap_data['y'] == 1]\n",
    "            # Bads\n",
    "            gap_bads = gap_data[gap_data['y'] == 0]\n",
    "\n",
    "\n",
    "            # woe for gap\n",
    "            woe, gap_goods_share, gap_bads_share = WOE(gap_goods, data_good, gap_bads, data_bad)\n",
    "            # woe for bin\n",
    "            gaps_shares.append([gap_goods_share, gap_bads_share])\n",
    "            gaps_woe.append(woe)\n",
    "        \n",
    "        # iv for var bin\n",
    "        ivs = [(gs[0] - gs[1]) * gw for gs, gw in zip(gaps_shares, gaps_woe)]\n",
    "        iv = np.sum(ivs)\n",
    "        \n",
    "        # save best bin\n",
    "        if iv > best_iv:\n",
    "            best_gaps = gaps\n",
    "            best_gaps_shares = gaps_shares\n",
    "            best_gaps_woe = gaps_woe\n",
    "            best_iv = iv\n",
    "\n",
    "    return best_iv"
   ]
  },
  {
   "cell_type": "code",
   "execution_count": 72,
   "id": "32b78eb1",
   "metadata": {},
   "outputs": [],
   "source": [
    "vars_to_bin = data[variables].nunique()\n",
    "vars_to_bin = vars_to_bin[vars_to_bin > 10].index"
   ]
  },
  {
   "cell_type": "markdown",
   "id": "1db41675",
   "metadata": {},
   "source": [
    "# qcut"
   ]
  },
  {
   "cell_type": "code",
   "execution_count": 78,
   "id": "655ed44f",
   "metadata": {},
   "outputs": [],
   "source": [
    "# method using qcut"
   ]
  },
  {
   "cell_type": "code",
   "execution_count": 73,
   "id": "10bd20c8",
   "metadata": {},
   "outputs": [
    {
     "data": {
      "text/html": [
       "<div>\n",
       "<style scoped>\n",
       "    .dataframe tbody tr th:only-of-type {\n",
       "        vertical-align: middle;\n",
       "    }\n",
       "\n",
       "    .dataframe tbody tr th {\n",
       "        vertical-align: top;\n",
       "    }\n",
       "\n",
       "    .dataframe thead th {\n",
       "        text-align: right;\n",
       "    }\n",
       "</style>\n",
       "<table border=\"1\" class=\"dataframe\">\n",
       "  <thead>\n",
       "    <tr style=\"text-align: right;\">\n",
       "      <th></th>\n",
       "      <th>variable</th>\n",
       "      <th>iv_by_qcut</th>\n",
       "    </tr>\n",
       "  </thead>\n",
       "  <tbody>\n",
       "    <tr>\n",
       "      <th>0</th>\n",
       "      <td>loading</td>\n",
       "      <td>0.096396</td>\n",
       "    </tr>\n",
       "    <tr>\n",
       "      <th>20</th>\n",
       "      <td>measurement_17</td>\n",
       "      <td>0.007001</td>\n",
       "    </tr>\n",
       "    <tr>\n",
       "      <th>9</th>\n",
       "      <td>measurement_6</td>\n",
       "      <td>0.005213</td>\n",
       "    </tr>\n",
       "    <tr>\n",
       "      <th>5</th>\n",
       "      <td>measurement_2</td>\n",
       "      <td>0.004812</td>\n",
       "    </tr>\n",
       "    <tr>\n",
       "      <th>8</th>\n",
       "      <td>measurement_5</td>\n",
       "      <td>0.004488</td>\n",
       "    </tr>\n",
       "  </tbody>\n",
       "</table>\n",
       "</div>"
      ],
      "text/plain": [
       "          variable  iv_by_qcut\n",
       "0          loading    0.096396\n",
       "20  measurement_17    0.007001\n",
       "9    measurement_6    0.005213\n",
       "5    measurement_2    0.004812\n",
       "8    measurement_5    0.004488"
      ]
     },
     "execution_count": 73,
     "metadata": {},
     "output_type": "execute_result"
    }
   ],
   "source": [
    "vars_iv_qcut = pd.DataFrame(columns=['variable','iv_by_qcut'])\n",
    "\n",
    "\n",
    "for var in variables:\n",
    "    if var in vars_to_bin:\n",
    "        var_bin = pd.qcut(data[var], q=15, duplicates='drop') # Bin it into 15 parts\n",
    "    else:\n",
    "        var_bin = data[var]\n",
    "        \n",
    "    df_var_bin = pd.DataFrame({'bucket': var_bin, 'target': data['failure']})\n",
    "    \n",
    "    var_bin_grp = df_var_bin.groupby(['bucket']).agg({'bucket':'count','target':'sum'}).rename(\n",
    "    columns={'bucket':'all_cnt', 'target':'target_cnt'}\n",
    "        ).reset_index(level=0)\n",
    "    \n",
    "    var_iv = iv_for_var(var_bin_grp)\n",
    "    vars_iv_qcut = vars_iv_qcut.append(\n",
    "        pd.DataFrame([[var,var_iv]], columns=['variable','iv_by_qcut']), ignore_index = True)\n",
    "    \n",
    "vars_iv_qcut.sort_values(by='iv_by_qcut',ascending=False).head(5)"
   ]
  },
  {
   "cell_type": "markdown",
   "id": "836f0530",
   "metadata": {},
   "source": [
    "# Binning"
   ]
  },
  {
   "cell_type": "code",
   "execution_count": 77,
   "id": "25937966",
   "metadata": {},
   "outputs": [],
   "source": [
    "# method using binning"
   ]
  },
  {
   "cell_type": "code",
   "execution_count": 74,
   "id": "d5cdeb9c",
   "metadata": {},
   "outputs": [
    {
     "data": {
      "text/html": [
       "<div>\n",
       "<style scoped>\n",
       "    .dataframe tbody tr th:only-of-type {\n",
       "        vertical-align: middle;\n",
       "    }\n",
       "\n",
       "    .dataframe tbody tr th {\n",
       "        vertical-align: top;\n",
       "    }\n",
       "\n",
       "    .dataframe thead th {\n",
       "        text-align: right;\n",
       "    }\n",
       "</style>\n",
       "<table border=\"1\" class=\"dataframe\">\n",
       "  <thead>\n",
       "    <tr style=\"text-align: right;\">\n",
       "      <th></th>\n",
       "      <th>variable</th>\n",
       "      <th>iv_by_tree</th>\n",
       "    </tr>\n",
       "  </thead>\n",
       "  <tbody>\n",
       "    <tr>\n",
       "      <th>0</th>\n",
       "      <td>loading</td>\n",
       "      <td>0.101371</td>\n",
       "    </tr>\n",
       "    <tr>\n",
       "      <th>20</th>\n",
       "      <td>measurement_17</td>\n",
       "      <td>0.011307</td>\n",
       "    </tr>\n",
       "    <tr>\n",
       "      <th>9</th>\n",
       "      <td>measurement_6</td>\n",
       "      <td>0.010716</td>\n",
       "    </tr>\n",
       "    <tr>\n",
       "      <th>8</th>\n",
       "      <td>measurement_5</td>\n",
       "      <td>0.007021</td>\n",
       "    </tr>\n",
       "    <tr>\n",
       "      <th>15</th>\n",
       "      <td>measurement_12</td>\n",
       "      <td>0.006452</td>\n",
       "    </tr>\n",
       "  </tbody>\n",
       "</table>\n",
       "</div>"
      ],
      "text/plain": [
       "          variable  iv_by_tree\n",
       "0          loading    0.101371\n",
       "20  measurement_17    0.011307\n",
       "9    measurement_6    0.010716\n",
       "8    measurement_5    0.007021\n",
       "15  measurement_12    0.006452"
      ]
     },
     "execution_count": 74,
     "metadata": {},
     "output_type": "execute_result"
    }
   ],
   "source": [
    "vars_iv_tree = pd.DataFrame(columns=['variable','iv_by_tree'])\n",
    "\n",
    "\n",
    "for var_ in variables:\n",
    "    x = data[var_].copy()\n",
    "    y = data['failure'].copy()\n",
    "    x.rename(\"x\", inplace=True)\n",
    "    y.rename(\"y\", inplace=True)\n",
    "    \n",
    "    var_iv = binning(x, y)\n",
    "    vars_iv_tree = vars_iv_tree.append(\n",
    "        pd.DataFrame([[var_,var_iv]], columns=['variable','iv_by_tree']), ignore_index = True)\n",
    "    \n",
    "vars_iv_tree.sort_values(by='iv_by_tree',ascending=False).head(5)"
   ]
  },
  {
   "cell_type": "markdown",
   "id": "23e48887",
   "metadata": {},
   "source": [
    "# Сomparison of results"
   ]
  },
  {
   "cell_type": "code",
   "execution_count": 75,
   "id": "71cc9175",
   "metadata": {},
   "outputs": [],
   "source": [
    "vars_iv = vars_iv_qcut.merge(vars_iv_tree, on='variable')"
   ]
  },
  {
   "cell_type": "code",
   "execution_count": 76,
   "id": "d3eebc0a",
   "metadata": {},
   "outputs": [
    {
     "data": {
      "text/plain": [
       "<Figure size 1440x1800 with 0 Axes>"
      ]
     },
     "metadata": {},
     "output_type": "display_data"
    },
    {
     "data": {
      "image/png": "[encoded data removed]",
      "text/plain": [
       "<Figure size 1440x864 with 1 Axes>"
      ]
     },
     "metadata": {},
     "output_type": "display_data"
    }
   ],
   "source": [
    "plt.figure(figsize=(20,25))\n",
    "vars_iv.plot(x=\"variable\", y=[\"iv_by_tree\",'iv_by_qcut'], kind='bar',figsize=(20,12))\n",
    "plt.show()"
   ]
  },
  {
   "cell_type": "markdown",
   "id": "b78b4a9c",
   "metadata": {},
   "source": [
    "Now we can see the difference between the approaches. Using binning, we will select another set of features for the model that will be more informative"
   ]
  },
  {
   "cell_type": "code",
   "execution_count": null,
   "id": "eacca926",
   "metadata": {},
   "outputs": [],
   "source": []
  }
 ],
 "metadata": {
  "kernelspec": {
   "display_name": "Python 3 (ipykernel)",
   "language": "python",
   "name": "python3"
  },
  "language_info": {
   "codemirror_mode": {
    "name": "ipython",
    "version": 3
   },
   "file_extension": ".py",
   "mimetype": "text/x-python",
   "name": "python",
   "nbconvert_exporter": "python",
   "pygments_lexer": "ipython3",
   "version": "3.9.12"
  }
 },
 "nbformat": 4,
 "nbformat_minor": 5
}
